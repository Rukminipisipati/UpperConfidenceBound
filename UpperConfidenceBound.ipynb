{
 "cells": [
  {
   "cell_type": "code",
   "execution_count": 43,
   "id": "193d7a99",
   "metadata": {},
   "outputs": [],
   "source": [
    "#UpperConfidenceBound algorithm under Reinforcement Learning\n",
    "import pandas as pd\n",
    "import numpy as np\n",
    "import matplotlib.pyplot as plt\n"
   ]
  },
  {
   "cell_type": "code",
   "execution_count": 44,
   "id": "4d73b45b",
   "metadata": {},
   "outputs": [],
   "source": [
    "#Importing the dataset\n",
    "dataset=pd.read_csv('C:/Users/rukmi/OneDrive/Documents/ML Course/Ads_CTR_Optimisation.csv')"
   ]
  },
  {
   "cell_type": "code",
   "execution_count": 45,
   "id": "3e1ee0af",
   "metadata": {},
   "outputs": [],
   "source": [
    "#Implementing UCB Algorithm\n",
    "import math as m\n",
    "N = 10000 #Total number of users/rounds\n",
    "d=10 #Total no. of Ads\n",
    "ads_selected=[] #Contains the ads that are selected at each round n. So, the total no. of values are 10,000.\n",
    "numbers_of_selections = [0] * d # Total no. of selections of each ad.\n",
    "sums_of_rewards = [0] * d # corresponds to sum of the rewards of each ad.\n",
    "total_reward = 0\n",
    "for n in range(0,N):\n",
    "    ad=0\n",
    "    max_upper_bound=0\n",
    "    for i in range(0,d): # This is to find the upper_bound of each ad at every round.\n",
    "        if (numbers_of_selections[i]>0):\n",
    "            average_reward = sums_of_rewards[i] / numbers_of_selections[i]\n",
    "            delta_i = m.sqrt(3/2 * m.log(n+1)/numbers_of_selections[i])\n",
    "            upper_bound = average_reward + delta_i\n",
    "        else:\n",
    "            upper_bound=1e400\n",
    "        if (upper_bound>max_upper_bound): # This is to figure out the ad that has the maximum upperbound among the d ads at every round.\n",
    "            max_upper_bound = upper_bound\n",
    "            ad=i\n",
    "    ads_selected.append(ad)\n",
    "    numbers_of_selections[ad]=numbers_of_selections[ad] + 1\n",
    "    reward=dataset.values[n, ad]\n",
    "    sums_of_rewards[ad]=sums_of_rewards[ad] + reward\n",
    "    total_reward=total_reward + reward\n",
    "        \n",
    "    \n",
    "    "
   ]
  },
  {
   "cell_type": "code",
   "execution_count": 46,
   "id": "7e0e9e6b",
   "metadata": {},
   "outputs": [
    {
     "data": {
      "image/png": "[encoded data removed]",
      "text/plain": [
       "<Figure size 432x288 with 1 Axes>"
      ]
     },
     "metadata": {
      "needs_background": "light"
     },
     "output_type": "display_data"
    }
   ],
   "source": [
    "#Visualizing the results\n",
    "plt.hist(ads_selected)\n",
    "plt.title('Histogram Of ads selections')\n",
    "plt.xlabel('Ads')\n",
    "plt.ylabel('Number Of times each ad was selected')\n",
    "plt.show()\n",
    "# From this, Ad4 has been selected at maximum times with in the rounds of 10000. "
   ]
  },
  {
   "cell_type": "code",
   "execution_count": null,
   "id": "a5c2abdf",
   "metadata": {},
   "outputs": [],
   "source": []
  },
  {
   "cell_type": "code",
   "execution_count": null,
   "id": "9b75a98d",
   "metadata": {},
   "outputs": [],
   "source": []
  }
 ],
 "metadata": {
  "kernelspec": {
   "display_name": "Python 3 (ipykernel)",
   "language": "python",
   "name": "python3"
  },
  "language_info": {
   "codemirror_mode": {
    "name": "ipython",
    "version": 3
   },
   "file_extension": ".py",
   "mimetype": "text/x-python",
   "name": "python",
   "nbconvert_exporter": "python",
   "pygments_lexer": "ipython3",
   "version": "3.10.2"
  }
 },
 "nbformat": 4,
 "nbformat_minor": 5
}
